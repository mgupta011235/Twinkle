{
 "cells": [
  {
   "cell_type": "code",
   "execution_count": 84,
   "metadata": {
    "collapsed": false
   },
   "outputs": [],
   "source": [
    "import gensim\n",
    "from collections import namedtuple\n",
    "from collections import OrderedDict\n",
    "import multiprocessing\n",
    "import numpy as np\n",
    "import pandas as pd\n",
    "import json\n",
    "import logging\n",
    "import random\n",
    "import pymongo\n",
    "from pymongo import MongoClient\n",
    "from random import sample\n",
    "import statsmodels.api as sm\n",
    "from gensim.models import Doc2Vec\n",
    "import gensim.models.doc2vec\n",
    "from gensim.models import Word2Vec\n",
    "from collections import defaultdict\n",
    "from sklearn.feature_extraction.text import CountVectorizer\n",
    "from gensim.models.doc2vec import TaggedDocument\n",
    "from sklearn.metrics import jaccard_similarity_score\n",
    "from sklearn.metrics.pairwise import cosine_similarity\n",
    "from gensim.test.test_doc2vec import ConcatenatedDoc2Vec\n",
    "\n",
    "# for timing\n",
    "from contextlib import contextmanager\n",
    "from timeit import default_timer\n",
    "import time\n",
    "\n",
    "from random import shuffle\n",
    "import datetime"
   ]
  },
  {
   "cell_type": "code",
   "execution_count": 88,
   "metadata": {
    "collapsed": false
   },
   "outputs": [],
   "source": [
    "client = MongoClient()\n",
    "db = client['tweets_db']\n",
    "cursor = db.tweets.find()\n",
    "count = 2\n",
    "df = pd.DataFrame(columns=['tweet_id', 'text', 'timestamp'])\n",
    "for tweet in cursor:\n",
    "    count -= 1\n",
    "    try:\n",
    "        if 'text' in tweet:\n",
    "            data = pd.read_json(tweet)\n",
    "#             df.append(data)\n",
    "            print data\n",
    "#             df.append(tweet)\n",
    "#             print tweet['id'] \n",
    "#             print tweet['created_at'] \n",
    "#             print tweet['text']\n",
    "#             hashtags = []\n",
    "#             for hashtag in tweet['entities']['hashtags']:\n",
    "#             \thashtags.append(hashtag['text'])\n",
    "#             print hashtags\n",
    "\n",
    "    except:\n",
    "        # read in a line is not in JSON format (sometimes error occured)\n",
    "        continue\n",
    "    if count <= 0:\n",
    "        break"
   ]
  },
  {
   "cell_type": "code",
   "execution_count": 49,
   "metadata": {
    "collapsed": false
   },
   "outputs": [],
   "source": [
    "vectorizer = CountVectorizer(stop_words='english')\n",
    "vectors = vectorizer.fit_transform(data).toarray()\n",
    "words = vectorizer.get_feature_names()"
   ]
  },
  {
   "cell_type": "code",
   "execution_count": null,
   "metadata": {
    "collapsed": true
   },
   "outputs": [],
   "source": []
  }
 ],
 "metadata": {
  "kernelspec": {
   "display_name": "Python 2",
   "language": "python",
   "name": "python2"
  },
  "language_info": {
   "codemirror_mode": {
    "name": "ipython",
    "version": 2
   },
   "file_extension": ".py",
   "mimetype": "text/x-python",
   "name": "python",
   "nbconvert_exporter": "python",
   "pygments_lexer": "ipython2",
   "version": "2.7.10"
  }
 },
 "nbformat": 4,
 "nbformat_minor": 0
}
